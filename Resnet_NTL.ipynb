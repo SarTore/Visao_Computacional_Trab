{
  "nbformat": 4,
  "nbformat_minor": 0,
  "metadata": {
    "colab": {
      "provenance": []
    },
    "kernelspec": {
      "name": "python3",
      "display_name": "Python 3"
    },
    "language_info": {
      "name": "python"
    }
  },
  "cells": [
    {
      "cell_type": "code",
      "execution_count": null,
      "metadata": {
        "id": "jCT6YpGh-J4S"
      },
      "outputs": [],
      "source": [
        "#Sem transfer learning\n",
        "\n",
        "import os\n",
        "import cv2\n",
        "import glob as gb\n",
        "import matplotlib.pyplot as plt\n",
        "import seaborn as sns\n",
        "import numpy as np\n",
        "import tensorflow as tf\n",
        "from tensorflow.keras.preprocessing.image import ImageDataGenerator\n",
        "from sklearn.metrics import confusion_matrix\n",
        "\n",
        "\n",
        "os.environ['TF_CPP_MIN_LOG_LEVEL'] = '2'\n",
        "SEED = 1000\n",
        "IMG_SIZE = 256\n",
        "BATCH_SIZE = 64\n",
        "\n",
        "TRAIN_DIR = '/content/drive/MyDrive/Test'\n",
        "class_names = []\n",
        "class_count = []\n",
        "train_examples = 0\n",
        "for f in os.listdir(TRAIN_DIR):\n",
        "    files = gb.glob(pathname=str(TRAIN_DIR + \"//\" + f + \"/*\"))\n",
        "    class_names.append(f)\n",
        "    class_count.append(len(files))\n",
        "    train_examples += len(files)\n",
        "plt.figure(figsize=(20, 5))\n",
        "sns.barplot(x=class_names, y=class_count)\n",
        "plt.savefig('foo.png', dpi=1000)\n",
        "plt.show()"
      ]
    },
    {
      "cell_type": "code",
      "source": [
        "train_gen = ImageDataGenerator(\n",
        "    rescale=1. / 255,\n",
        "    shear_range=0.2,\n",
        "    zoom_range=0.2,\n",
        "    horizontal_flip=True,\n",
        "    validation_split=0.3\n",
        ")\n",
        "\n",
        "train_batch = train_gen.flow_from_directory(\n",
        "    directory=TRAIN_DIR,\n",
        "    target_size=(IMG_SIZE, IMG_SIZE),\n",
        "    batch_size=BATCH_SIZE,\n",
        "    subset='training',\n",
        "    class_mode='categorical',\n",
        "    seed=SEED\n",
        ")\n",
        "\n",
        "valid_batch = train_gen.flow_from_directory(\n",
        "    directory=TRAIN_DIR,\n",
        "    target_size=(IMG_SIZE, IMG_SIZE),\n",
        "    batch_size=BATCH_SIZE,\n",
        "    subset='validation',\n",
        "    class_mode='categorical',\n",
        "    seed=SEED\n",
        ")"
      ],
      "metadata": {
        "id": "3rGT_rIf-Rg9"
      },
      "execution_count": null,
      "outputs": []
    },
    {
      "cell_type": "code",
      "source": [
        "base_model = tf.keras.applications.ResNet50(include_top=False, weights=\"imagenet\", input_shape=(IMG_SIZE, IMG_SIZE, 3))\n",
        "base_model.trainable = False\n",
        "\n",
        "model = tf.keras.Sequential([\n",
        "    base_model,\n",
        "    tf.keras.layers.GlobalAveragePooling2D(),\n",
        "    tf.keras.layers.Dense(200, activation='softmax')\n",
        "])\n",
        "\n",
        "model.summary()"
      ],
      "metadata": {
        "id": "r9r3fB6l-RjK"
      },
      "execution_count": null,
      "outputs": []
    },
    {
      "cell_type": "code",
      "source": [
        "model.compile(\n",
        "    loss='categorical_crossentropy',\n",
        "    optimizer=tf.keras.optimizers.SGD(learning_rate=0.001, momentum=0.9),\n",
        "    metrics=['accuracy']\n",
        ")\n",
        "\n",
        "cb = tf.keras.callbacks.EarlyStopping(monitor='val_loss', min_delta=0.02, patience=10, restore_best_weights=True)\n",
        "\n",
        "reduce_lr = tf.keras.callbacks.ReduceLROnPlateau(monitor='val_loss', factor=0.2, patience=2, min_lr=0.00001, verbose=2)"
      ],
      "metadata": {
        "id": "-GeS25qx-RlZ"
      },
      "execution_count": null,
      "outputs": []
    },
    {
      "cell_type": "code",
      "source": [
        "history = model.fit(\n",
        "    train_batch,\n",
        "    epochs=20,\n",
        "    steps_per_epoch=train_examples // BATCH_SIZE,\n",
        "    validation_data=valid_batch,\n",
        "    validation_steps=len(valid_batch),\n",
        "    callbacks=[cb, reduce_lr]\n",
        ")"
      ],
      "metadata": {
        "id": "TIGwtMdD-Rnp"
      },
      "execution_count": null,
      "outputs": []
    },
    {
      "cell_type": "code",
      "source": [
        "model.save(\"/content/drive/MyDrive/resnet_model.h5\")"
      ],
      "metadata": {
        "id": "2rzJfKHM-Rpw"
      },
      "execution_count": null,
      "outputs": []
    },
    {
      "cell_type": "code",
      "source": [
        "plt.figure(figsize=(15, 5))\n",
        "plt.subplot(1, 2, 1)\n",
        "plt.plot(history.history['accuracy'], label='train accuracy')\n",
        "plt.plot(history.history['val_accuracy'], label='validation accuracy')\n",
        "plt.xlabel('Epoch')\n",
        "plt.ylabel('Accuracy')\n",
        "plt.grid(True)\n",
        "plt.legend(loc='lower right')\n",
        "\n",
        "plt.subplot(1, 2, 2)\n",
        "plt.plot(history.history['loss'], label='train loss')\n",
        "plt.plot(history.history['val_loss'], label='validation loss')\n",
        "plt.xlabel('Epoch')\n",
        "plt.ylabel('Loss')\n",
        "plt.grid(True)\n",
        "plt.ylim([0, 10])\n",
        "plt.legend(loc='upper right')\n",
        "plt.savefig(\"resnet.pdf\", dpi=300)\n",
        "plt.show()"
      ],
      "metadata": {
        "id": "ErBopy0f-il3"
      },
      "execution_count": null,
      "outputs": []
    },
    {
      "cell_type": "code",
      "source": [
        "model = tf.keras.models.load_model('/content/drive/MyDrive/resnet_model.h5')\n",
        "\n",
        "# Predict on validation data\n",
        "y_pred = model.predict(valid_batch)\n",
        "y_pred = np.argmax(y_pred, axis=1)\n",
        "\n",
        "# Get true labels\n",
        "y_true = valid_batch.classes\n",
        "\n",
        "# Compute confusion matrix\n",
        "cm = confusion_matrix(y_true, y_pred)\n",
        "\n",
        "# Print confusion matrix\n",
        "plt.figure(figsize=(10, 8))\n",
        "sns.heatmap(cm, annot=True, cmap=\"Blues\", xticklabels=class_names, yticklabels=class_names)\n",
        "plt.xlabel('Predicted')\n",
        "plt.ylabel('True')\n",
        "plt.title('Confusion Matrix')\n",
        "plt.savefig(\"confusion_matrix.png\", dpi=300)\n",
        "plt.show()"
      ],
      "metadata": {
        "id": "XbU5Q-J3-ioT"
      },
      "execution_count": null,
      "outputs": []
    },
    {
      "cell_type": "code",
      "source": [
        "def preprocess_image(image_path):\n",
        "    image = cv2.imread(image_path)\n",
        "    image = cv2.resize(image, (IMG_SIZE, IMG_SIZE))\n",
        "    image = image / 255.0\n",
        "    return image"
      ],
      "metadata": {
        "id": "KHos-xhS-iqn"
      },
      "execution_count": null,
      "outputs": []
    },
    {
      "cell_type": "code",
      "source": [
        "image_path = '/content/drive/MyDrive/Test/American_Pipit/American_Pipit_0001_100225.jpg'\n",
        "preprocessed_image = preprocess_image(image_path)\n",
        "preprocessed_image = np.expand_dims(preprocessed_image, axis=0)\n",
        "\n",
        "predictions = model.predict(preprocessed_image)\n",
        "class_indices = train_batch.class_indices\n",
        "class_mapping = {v: k for k, v in class_indices.items()}\n",
        "predicted_class_index = np.argmax(predictions)\n",
        "predicted_class_name = class_mapping[predicted_class_index]\n",
        "print(\"Predicted class:\", predicted_class_name)"
      ],
      "metadata": {
        "id": "Lrg3iWXI-itS"
      },
      "execution_count": null,
      "outputs": []
    },
    {
      "cell_type": "code",
      "source": [],
      "metadata": {
        "id": "Iadcd94W-Rr9"
      },
      "execution_count": null,
      "outputs": []
    }
  ]
}